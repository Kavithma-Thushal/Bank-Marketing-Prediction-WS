{
 "cells": [
  {
   "metadata": {
    "ExecuteTime": {
     "end_time": "2025-03-28T09:57:18.082359Z",
     "start_time": "2025-03-28T09:56:43.889896Z"
    }
   },
   "cell_type": "code",
   "source": [
    "# Import libraries\n",
    "import os\n",
    "import joblib\n",
    "import pandas as pd\n",
    "from sklearn.model_selection import train_test_split\n",
    "from sklearn.preprocessing import StandardScaler, LabelEncoder\n",
    "from sklearn.svm import SVC\n",
    "\n",
    "# Load the dataset\n",
    "df = pd.read_csv(\"dataset/bank-marketing.csv\")\n",
    "\n",
    "# Drop columns\n",
    "df = df.drop(\n",
    "    columns=[\"poutcome\", \"duration\", \"campaign\", \"pdays\", \"previous\", \"emp_var_rate\", \"cons_price_idx\", \"cons_conf_idx\",\n",
    "             \"euribor3m\", \"nr_employed\"])\n",
    "\n",
    "# Initialize LabelEncoders for categorical columns\n",
    "label_encoders = {}\n",
    "\n",
    "# Encode categorical variables\n",
    "for column in df.select_dtypes(include=['object']).columns:\n",
    "    if column != 'y':\n",
    "        label_encoders[column] = LabelEncoder()\n",
    "        df[column] = label_encoders[column].fit_transform(df[column])\n",
    "\n",
    "# Split features and target\n",
    "X = df.drop(columns=[\"y\"])\n",
    "y = df[\"y\"]\n",
    "\n",
    "# Train split\n",
    "X_train, X_test, y_train, y_test = train_test_split(X, y, test_size=0.2, random_state=42, stratify=y)\n",
    "\n",
    "# Feature scaling\n",
    "scaler = StandardScaler()\n",
    "X_train = scaler.fit_transform(X_train)\n",
    "X_test = scaler.transform(X_test)\n",
    "\n",
    "# Train the SVM model\n",
    "svm_model = SVC(kernel=\"rbf\", C=1.0, gamma=\"scale\", random_state=42)\n",
    "svm_model.fit(X_train, y_train)\n",
    "\n",
    "# Make directory\n",
    "os.makedirs(\"models\", exist_ok=True)\n",
    "\n",
    "# Save the models\n",
    "joblib.dump(scaler, \"models/scaler.pkl\")\n",
    "joblib.dump(label_encoders, \"models/encoder.pkl\")\n",
    "joblib.dump(svm_model, \"models/svm_model.pkl\")\n",
    "\n",
    "# Success message\n",
    "print(\"Models saved successfully!\")"
   ],
   "id": "7f5276b0f3da6bf4",
   "outputs": [
    {
     "name": "stdout",
     "output_type": "stream",
     "text": [
      "Models saved successfully!\n"
     ]
    }
   ],
   "execution_count": 1
  },
  {
   "metadata": {},
   "cell_type": "code",
   "outputs": [],
   "execution_count": null,
   "source": "",
   "id": "680bad1458ab2263"
  }
 ],
 "metadata": {
  "kernelspec": {
   "display_name": "Python 3",
   "language": "python",
   "name": "python3"
  },
  "language_info": {
   "codemirror_mode": {
    "name": "ipython",
    "version": 2
   },
   "file_extension": ".py",
   "mimetype": "text/x-python",
   "name": "python",
   "nbconvert_exporter": "python",
   "pygments_lexer": "ipython2",
   "version": "2.7.6"
  }
 },
 "nbformat": 4,
 "nbformat_minor": 5
}
